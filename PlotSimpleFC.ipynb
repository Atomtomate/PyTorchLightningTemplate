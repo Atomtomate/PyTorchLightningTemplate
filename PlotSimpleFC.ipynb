{
 "cells": [
  {
   "cell_type": "code",
   "execution_count": 1,
   "id": "400ecf7a-d6db-4876-91ea-611670637f38",
   "metadata": {},
   "outputs": [],
   "source": [
    "import lightning as L \n",
    "import matplotlib.pyplot as plt\n",
    "import lightning as L\n",
    "from lightning.pytorch.tuner import Tuner\n",
    "from lightning.pytorch.callbacks import ModelCheckpoint, LearningRateMonitor, EarlyStopping, StochasticWeightAveraging\n",
    "import torch \n",
    "\n",
    "torch.set_float32_matmul_precision(\"high\")"
   ]
  },
  {
   "cell_type": "code",
   "execution_count": 2,
   "id": "9b4eb63d-4dee-40aa-a604-6a676c9b7002",
   "metadata": {},
   "outputs": [],
   "source": [
    "from src.models.SimpleFC import SimpleFC_Lit\n",
    "from src.models.FCSplit import FC_Split"
   ]
  },
  {
   "cell_type": "code",
   "execution_count": 3,
   "id": "b7fe031b-9062-4ffd-a3f6-eabc4137dead",
   "metadata": {},
   "outputs": [],
   "source": [
    "import numpy as np"
   ]
  },
  {
   "cell_type": "code",
   "execution_count": 5,
   "id": "b25f8833-fbfe-4884-abbe-51ab0a40ea2b",
   "metadata": {},
   "outputs": [],
   "source": [
    "for pl_i in range(9):\n",
    "    model = SimpleFC_Lit.load_from_checkpoint(\"lightning_logs/FullCNN_WeightedLoss_Large_ActivationTest/version_{}/checkpoints/last.ckpt\".format(pl_i))\n",
    "    model.setup()\n",
    "    device = \"cpu\"\n",
    "    model.to(device)\n",
    "    model.eval()\n",
    "    ind_list = [-1, -2, -3, -1501,-1506,-1510,-1511,-1514,-1515, -1517, -1521]\n",
    "\n",
    "    fig,ax = plt.subplots(len(ind_list),2, figsize=(24,8*len(ind_list)))\n",
    "    for i,ind in enumerate(ind_list):\n",
    "        x_test, y_test = model.test_dataset[ind]\n",
    "        x_test = x_test.to(device).reshape(1,-1)\n",
    "        y_pred = model(x_test).detach().numpy()\n",
    "\n",
    "        if i == 0:\n",
    "            text = \"HyperParams:\\nActivation:{}\\nBatchNorm:{}\\nDropout:{}\".format(model.hparams[\"activation\"],model.hparams[\"with_batchnorm\"],model.hparams[\"dropout\"])\n",
    "            ax[i,1].text(0.85, 0.05, text, transform=ax[i,1].transAxes, fontsize=14,\n",
    "            verticalalignment='bottom')\n",
    "        ax[i,0].plot(y_pred[0,100:], marker=\"x\", label=\"im, pred (n=\"+str(x_test.detach().numpy()[0,0])+\")\")\n",
    "        ax[i,0].plot(y_test[100:], marker=\"x\", label=\"im, true\")\n",
    "        ax[i,0].legend()\n",
    "\n",
    "        ax[i,1].plot(y_pred[0,0:100], marker=\"x\", label=\"re, pred\")\n",
    "        ax[i,1].plot(y_test[0:100], marker=\"x\", label=\"re, true\")\n",
    "        ax[i,1].legend()\n",
    "        \n",
    "    #fig.suptitle('No Dropout, Weighted, Medium Model Size, Medium Training Size ', fontsize=20)\n",
    "    plt.savefig(\"demo_{}.pdf\".format(pl_i))\n",
    "    #plt.show()"
   ]
  },
  {
   "cell_type": "code",
   "execution_count": 5,
   "id": "80f86203-a421-4a4f-8b84-a85ab86fead7",
   "metadata": {
    "scrolled": true
   },
   "outputs": [],
   "source": []
  },
  {
   "cell_type": "code",
   "execution_count": null,
   "id": "50183725-d696-470b-b392-682795dd9ead",
   "metadata": {},
   "outputs": [],
   "source": []
  },
  {
   "cell_type": "code",
   "execution_count": null,
   "id": "337548a4",
   "metadata": {},
   "outputs": [],
   "source": []
  }
 ],
 "metadata": {
  "kernelspec": {
   "display_name": "Python 3 (ipykernel)",
   "language": "python",
   "name": "python3"
  },
  "language_info": {
   "codemirror_mode": {
    "name": "ipython",
    "version": 3
   },
   "file_extension": ".py",
   "mimetype": "text/x-python",
   "name": "python",
   "nbconvert_exporter": "python",
   "pygments_lexer": "ipython3",
   "version": "3.10.13"
  }
 },
 "nbformat": 4,
 "nbformat_minor": 5
}
